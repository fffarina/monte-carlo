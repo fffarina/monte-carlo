{
 "cells": [
  {
   "cell_type": "code",
   "execution_count": 1,
   "metadata": {},
   "outputs": [],
   "source": [
    "# initial species counts and sojourn times\n",
    "initital_conditions = {\n",
    "    \"s\": [290],\n",
    "    \"i\": [10],\n",
    "    \"r\": [0],\n",
    "    \"time\": [0.0],\n",
    "}\n",
    "\n",
    "\n",
    "# propensity functions\n",
    "propensities = {\n",
    "    0: lambda d: 7.0 * d[\"s\"][-1] * d[\"i\"][-1] / 300,\n",
    "    1: lambda d: 3.0 * d[\"i\"][-1],\n",
    "}\n",
    "\n",
    "\n",
    "# change in species for each propensity\n",
    "stoichiometry = {\n",
    "    0: {\"s\": -1, \"i\": 1, \"r\": 0},\n",
    "    1: {\"s\": 0, \"i\": -1, \"r\": 1},\n",
    "}"
   ]
  },
  {
   "cell_type": "code",
   "execution_count": 2,
   "metadata": {},
   "outputs": [],
   "source": [
    "from montecarlo import SSA, SSAModel\n",
    "\n",
    "\n",
    "# instantiate the epidemic SSA model\n",
    "epidemic = SSAModel(\n",
    "    initital_conditions,\n",
    "    propensities,\n",
    "    stoichiometry\n",
    ")\n",
    "\n",
    "# instantiate the SSA container with model\n",
    "epidemic_generator = SSA(epidemic)"
   ]
  },
  {
   "cell_type": "code",
   "execution_count": 3,
   "metadata": {},
   "outputs": [
    {
     "ename": "TypeError",
     "evalue": "'dict_items' object is not subscriptable",
     "output_type": "error",
     "traceback": [
      "\u001b[0;31m---------------------------------------------------------------------------\u001b[0m",
      "\u001b[0;31mTypeError\u001b[0m                                 Traceback (most recent call last)",
      "\u001b[0;32m<ipython-input-3-24c8d5c3fb3f>\u001b[0m in \u001b[0;36m<module>\u001b[0;34m\u001b[0m\n\u001b[1;32m      3\u001b[0m \u001b[0mtrajectories\u001b[0m \u001b[0;34m=\u001b[0m \u001b[0;36m0\u001b[0m\u001b[0;34m\u001b[0m\u001b[0;34m\u001b[0m\u001b[0m\n\u001b[1;32m      4\u001b[0m \u001b[0;32mfor\u001b[0m \u001b[0mtrajectory\u001b[0m \u001b[0;32min\u001b[0m \u001b[0mepidemic_generator\u001b[0m\u001b[0;34m.\u001b[0m\u001b[0mdirect\u001b[0m\u001b[0;34m(\u001b[0m\u001b[0;34m)\u001b[0m\u001b[0;34m:\u001b[0m\u001b[0;34m\u001b[0m\u001b[0;34m\u001b[0m\u001b[0m\n\u001b[0;32m----> 5\u001b[0;31m     \u001b[0mpyplot\u001b[0m\u001b[0;34m.\u001b[0m\u001b[0mplot\u001b[0m\u001b[0;34m(\u001b[0m\u001b[0mtrajectory\u001b[0m\u001b[0;34m[\u001b[0m\u001b[0;34m\"time\"\u001b[0m\u001b[0;34m]\u001b[0m\u001b[0;34m,\u001b[0m \u001b[0mtrajectory\u001b[0m\u001b[0;34m[\u001b[0m\u001b[0;34m\"s\"\u001b[0m\u001b[0;34m]\u001b[0m\u001b[0;34m)\u001b[0m\u001b[0;34m\u001b[0m\u001b[0;34m\u001b[0m\u001b[0m\n\u001b[0m\u001b[1;32m      6\u001b[0m     \u001b[0mpyplot\u001b[0m\u001b[0;34m.\u001b[0m\u001b[0mplot\u001b[0m\u001b[0;34m(\u001b[0m\u001b[0mtrajectory\u001b[0m\u001b[0;34m[\u001b[0m\u001b[0;34m\"time\"\u001b[0m\u001b[0;34m]\u001b[0m\u001b[0;34m,\u001b[0m \u001b[0mtrajectory\u001b[0m\u001b[0;34m[\u001b[0m\u001b[0;34m\"i\"\u001b[0m\u001b[0;34m]\u001b[0m\u001b[0;34m)\u001b[0m\u001b[0;34m\u001b[0m\u001b[0;34m\u001b[0m\u001b[0m\n\u001b[1;32m      7\u001b[0m     \u001b[0mpyplot\u001b[0m\u001b[0;34m.\u001b[0m\u001b[0mplot\u001b[0m\u001b[0;34m(\u001b[0m\u001b[0mtrajectory\u001b[0m\u001b[0;34m[\u001b[0m\u001b[0;34m\"time\"\u001b[0m\u001b[0;34m]\u001b[0m\u001b[0;34m,\u001b[0m \u001b[0mtrajectory\u001b[0m\u001b[0;34m[\u001b[0m\u001b[0;34m\"r\"\u001b[0m\u001b[0;34m]\u001b[0m\u001b[0;34m)\u001b[0m\u001b[0;34m\u001b[0m\u001b[0;34m\u001b[0m\u001b[0m\n",
      "\u001b[0;31mTypeError\u001b[0m: 'dict_items' object is not subscriptable"
     ]
    }
   ],
   "source": [
    "from matplotlib import pyplot\n",
    "\n",
    "trajectories = 0\n",
    "for trajectory in epidemic_generator.direct():\n",
    "    pyplot.plot(trajectory[\"time\"], trajectory[\"s\"])\n",
    "    pyplot.plot(trajectory[\"time\"], trajectory[\"i\"])\n",
    "    pyplot.plot(trajectory[\"time\"], trajectory[\"r\"])\n",
    "    trajectories += 1\n",
    "    if trajectories == 5:\n",
    "        break\n",
    "pyplot.show()"
   ]
  },
  {
   "cell_type": "code",
   "execution_count": null,
   "metadata": {},
   "outputs": [],
   "source": [
    "from matplotlib import pyplot, rcParams\n",
    "\n",
    "\n",
    "# make figure 10\" x 3\", 200 dots per inch\n",
    "# rcParams[\"figure.figsize\"] = 10, 3\n",
    "# rcParams[\"figure.dpi\"] = 200\n",
    "\n",
    "\n",
    "# # instantiate figure and axes\n",
    "# figure, axes = pyplot.subplots(1, 3)\n",
    "\n",
    "\n",
    "# append trajectories to plot\n",
    "epidemic = Epidemic(\n",
    "    initital_conditions,\n",
    "    propensities,\n",
    "    stoichiometry\n",
    ")\n",
    "trajectories = 0\n",
    "for trajectory in epidemic.direct():\n",
    "    pyplot.plot(trajectory[\"time\"], trajectory[\"s\"])\n",
    "    pyplot.plot(trajectory[\"time\"], trajectory[\"i\"])\n",
    "    pyplot.plot(trajectory[\"time\"], trajectory[\"r\"])\n",
    "    trajectories += 1\n",
    "    if trajectories == 1:\n",
    "        break\n",
    "pyplot.show()"
   ]
  },
  {
   "cell_type": "code",
   "execution_count": null,
   "metadata": {},
   "outputs": [],
   "source": [
    "# # initial species counts and sojourn times\n",
    "# state = {\n",
    "#     \"s\": [290],\n",
    "#     \"i\": [10],\n",
    "#     \"r\": [0],\n",
    "#     \"time\": [0.0],\n",
    "# }\n",
    "\n",
    "\n",
    "# # propensity functions\n",
    "# propensities = {\n",
    "#     0: lambda d: 5.0 * d[\"s\"][-1] * d[\"i\"][-1] / 300,\n",
    "#     1: lambda d: 3.0 * d[\"i\"][-1],\n",
    "# }\n",
    "\n",
    "\n",
    "# # change in species for each propensity\n",
    "# stoichiometry = {\n",
    "#     0: {\"s\": -1, \"i\": 1, \"r\": 0},\n",
    "#     1: {\"s\": 0, \"i\": -1, \"r\": 1},\n",
    "# }\n",
    "\n",
    "\n",
    "\n",
    "\n",
    "# while True:\n",
    "\n",
    "#     # init step: evaluate propensities and partition\n",
    "#     weights = list(\n",
    "#         (k, v(state)) for k,v in propensities.items()\n",
    "#     )\n",
    "#     partition = sum(weight[1] for weight in weights)\n",
    "\n",
    "#     # monte carlo step 1: next reaction time\n",
    "#     sojourn = log(1.0 / random()) / partition\n",
    "#     state[\"time\"].append(\n",
    "#         state[\"time\"][-1] + sojourn\n",
    "#     )\n",
    "\n",
    "#     # monte carlo step 2: next reaction\n",
    "#     partition = partition * random()\n",
    "#     while partition >= 0.0:\n",
    "#         j, weight = weights.pop(0)\n",
    "#         partition -= weight\n",
    "        \n",
    "#     # final step: update reaction species\n",
    "#     for species, delta in stoichiometry[j].items():\n",
    "#         state[species].append(\n",
    "#             state[species][-1] + delta\n",
    "#        )"
   ]
  }
 ],
 "metadata": {
  "kernelspec": {
   "display_name": "Python 3",
   "language": "python",
   "name": "python3"
  },
  "language_info": {
   "codemirror_mode": {
    "name": "ipython",
    "version": 3
   },
   "file_extension": ".py",
   "mimetype": "text/x-python",
   "name": "python",
   "nbconvert_exporter": "python",
   "pygments_lexer": "ipython3",
   "version": "3.8.6"
  }
 },
 "nbformat": 4,
 "nbformat_minor": 4
}
