{
 "cells": [
  {
   "cell_type": "code",
   "execution_count": 2,
   "metadata": {},
   "outputs": [
    {
     "ename": "KeyError",
     "evalue": "0",
     "output_type": "error",
     "traceback": [
      "\u001b[0;31m---------------------------------------------------------------------------\u001b[0m",
      "\u001b[0;31mKeyError\u001b[0m                                  Traceback (most recent call last)",
      "\u001b[0;32m<ipython-input-2-91e04c142ee9>\u001b[0m in \u001b[0;36m<module>\u001b[0;34m\u001b[0m\n\u001b[1;32m     39\u001b[0m \u001b[0;34m\u001b[0m\u001b[0m\n\u001b[1;32m     40\u001b[0m \u001b[0mtrajectories\u001b[0m \u001b[0;34m=\u001b[0m \u001b[0;36m0\u001b[0m\u001b[0;34m\u001b[0m\u001b[0;34m\u001b[0m\u001b[0m\n\u001b[0;32m---> 41\u001b[0;31m \u001b[0;32mfor\u001b[0m \u001b[0mtrajectory\u001b[0m \u001b[0;32min\u001b[0m \u001b[0mepidemic_generator\u001b[0m\u001b[0;34m.\u001b[0m\u001b[0mdirect\u001b[0m\u001b[0;34m(\u001b[0m\u001b[0;34m)\u001b[0m\u001b[0;34m:\u001b[0m\u001b[0;34m\u001b[0m\u001b[0;34m\u001b[0m\u001b[0m\n\u001b[0m\u001b[1;32m     42\u001b[0m     \u001b[0;32mif\u001b[0m \u001b[0mtrajectory\u001b[0m\u001b[0;34m[\u001b[0m\u001b[0;34m\"s\"\u001b[0m\u001b[0;34m]\u001b[0m\u001b[0;34m[\u001b[0m\u001b[0;34m-\u001b[0m\u001b[0;36m1\u001b[0m\u001b[0;34m]\u001b[0m \u001b[0;34m<=\u001b[0m \u001b[0;36m10\u001b[0m\u001b[0;34m:\u001b[0m\u001b[0;34m\u001b[0m\u001b[0;34m\u001b[0m\u001b[0m\n\u001b[1;32m     43\u001b[0m         pyplot.plot(\n",
      "\u001b[0;32m~/tbg/monte-carlo/montecarlo/ssa.py\u001b[0m in \u001b[0;36mdirect\u001b[0;34m(self)\u001b[0m\n\u001b[1;32m     37\u001b[0m                     \u001b[0mpartition\u001b[0m \u001b[0;34m-=\u001b[0m \u001b[0mweights\u001b[0m\u001b[0;34m.\u001b[0m\u001b[0mpop\u001b[0m\u001b[0;34m(\u001b[0m\u001b[0;36m0\u001b[0m\u001b[0;34m)\u001b[0m\u001b[0;34m\u001b[0m\u001b[0;34m\u001b[0m\u001b[0m\n\u001b[1;32m     38\u001b[0m                     \u001b[0mj\u001b[0m \u001b[0;34m+=\u001b[0m \u001b[0;36m1\u001b[0m\u001b[0;34m\u001b[0m\u001b[0;34m\u001b[0m\u001b[0m\n\u001b[0;32m---> 39\u001b[0;31m                 \u001b[0mreaction_stoich\u001b[0m \u001b[0;34m=\u001b[0m \u001b[0mself\u001b[0m\u001b[0;34m.\u001b[0m\u001b[0mmodel\u001b[0m\u001b[0;34m.\u001b[0m\u001b[0mstoichiometry\u001b[0m\u001b[0;34m[\u001b[0m\u001b[0mj\u001b[0m\u001b[0;34m-\u001b[0m\u001b[0;36m1\u001b[0m\u001b[0;34m]\u001b[0m\u001b[0;34m\u001b[0m\u001b[0;34m\u001b[0m\u001b[0m\n\u001b[0m\u001b[1;32m     40\u001b[0m                 \u001b[0;32mfor\u001b[0m \u001b[0mspecies\u001b[0m\u001b[0;34m,\u001b[0m \u001b[0mdelta\u001b[0m \u001b[0;32min\u001b[0m \u001b[0mreaction_stoich\u001b[0m\u001b[0;34m.\u001b[0m\u001b[0mitems\u001b[0m\u001b[0;34m(\u001b[0m\u001b[0;34m)\u001b[0m\u001b[0;34m:\u001b[0m\u001b[0;34m\u001b[0m\u001b[0;34m\u001b[0m\u001b[0m\n\u001b[1;32m     41\u001b[0m                     self.model[species].append(\n",
      "\u001b[0;31mKeyError\u001b[0m: 0"
     ]
    }
   ],
   "source": [
    "from matplotlib import pyplot\n",
    "from montecarlo import SSA, SSAModel\n",
    "\n",
    "\n",
    "# initial species counts and sojourn times\n",
    "initital_conditions = {\n",
    "    \"s\": [480],\n",
    "    \"i\": [20],\n",
    "    \"r\": [0],\n",
    "    \"time\": [0.0],\n",
    "}\n",
    "\n",
    "\n",
    "# propensity functions\n",
    "propensities = {\n",
    "    0: lambda d: 25.0 * d[\"s\"][-1] * d[\"i\"][-1] / 300,\n",
    "    1: lambda d: 5.0 * d[\"i\"][-1],\n",
    "}\n",
    "\n",
    "\n",
    "# change in species for each propensity\n",
    "stoichiometry = {\n",
    "    0: {\"s\": -1, \"i\": 1, \"r\": 0},\n",
    "    1: {\"s\": 0, \"i\": -1, \"r\": 1},\n",
    "}\n",
    "\n",
    "\n",
    "# instantiate the epidemic SSA model\n",
    "epidemic = SSAModel(\n",
    "    initital_conditions,\n",
    "    propensities,\n",
    "    stoichiometry\n",
    ")\n",
    "\n",
    "\n",
    "# instantiate the SSA container with model\n",
    "epidemic_generator = SSA(epidemic)\n",
    "\n",
    "\n",
    "trajectories = 0\n",
    "for trajectory in epidemic_generator.direct():\n",
    "    if trajectory[\"s\"][-1] <= 10:\n",
    "        pyplot.plot(\n",
    "            trajectory[\"time\"], trajectory[\"s\"], color=\"red\"\n",
    "        )\n",
    "        pyplot.plot(\n",
    "            trajectory[\"time\"], trajectory[\"i\"], color=\"blue\"\n",
    "        )\n",
    "        pyplot.plot(\n",
    "            trajectory[\"time\"], trajectory[\"r\"], color=\"green\"\n",
    "        )\n",
    "        trajectories += 1\n",
    "    else:\n",
    "        continue\n",
    "    if trajectories == 10:\n",
    "        break\n",
    "pyplot.show()"
   ]
  }
 ],
 "metadata": {
  "kernelspec": {
   "display_name": "Python 3",
   "language": "python",
   "name": "python3"
  },
  "language_info": {
   "codemirror_mode": {
    "name": "ipython",
    "version": 3
   },
   "file_extension": ".py",
   "mimetype": "text/x-python",
   "name": "python",
   "nbconvert_exporter": "python",
   "pygments_lexer": "ipython3",
   "version": "3.8.6"
  }
 },
 "nbformat": 4,
 "nbformat_minor": 4
}
