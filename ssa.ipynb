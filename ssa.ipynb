{
 "cells": [
  {
   "cell_type": "markdown",
   "metadata": {},
   "source": [
    "# The _Stochastic Simulation Algorithm_\n",
    "## Introduction\n",
    "The stochastic simulation algorithm (SSA) is a Monte Carlo method that was developed to study mass action models of well-mixed, reactive chemical mixtures. Here, three versions of the SSA-- _direct_, _first-reaction_, and _first-family_ methods are implemented as generator members of a Python class, and their abilities and properties are explored from the lenses of statistics and compute complexity.\n",
    "\n",
    "As previously mentioned, the SSA was at some point devised in the scientific literature as an avenue to simulate complex reactive chemical mixtures. In saying \"simulate a reactive chemical mixture\", we mean that the SSA accepts a set of relevant parameters (arrays of initial species concentrations, among other things) and returns each of these arrays with time-ordered changes that are statistically \"accurate\". We will call this set of arrays a _trajectory_ of the reactive chemical mixture. One of the most interesting results garnered from use of the SSA is that the statistics of a large group, or _ensemble_, of trajectories carries in it's moments the exact solution of the mixture's mass-action kinetics.\n",
    "## Python implementation\n",
    "The [introduction](##Introduction) discussed the history, utility, and high-level nature of the SSA. This section details the actual _design_ and _implementation_ of the SSA as Python source code. Rather than lead with prose, please just consider the implementation:"
   ]
  },
  {
   "cell_type": "markdown",
   "metadata": {},
   "source": [
    "At the top level, a convenient Python implementation of the SSA would be an indefinite generator of single trajectories, which\n",
    " * yields trajectories in a for-loop that are passed directly to `matplotlib.pyplot`,\n",
    " * and can exit safely with the `break` keyword.\n",
    "Here is such an implementation, specifically a Python class whose members are an initializer, and the three SSA versions dicussed in [Gillespie's review](http://cctbio.ece.umn.edu/wiki/images/7/78/Gillespie-Daniel-T_Stochastic_Simulation_of_Chemical_Kinetics.pdf):"
   ]
  },
  {
   "cell_type": "code",
   "execution_count": 49,
   "metadata": {},
   "outputs": [],
   "source": [
    "from math import log\n",
    "from random import random, seed\n",
    "from warnings import warn\n",
    "\n",
    "\n",
    "class SSA:\n",
    "    \"\"\"Container for Stochastic Simulation Algorithms\"\"\"\n",
    "\n",
    "    def __init__(self, a=None, version=None):\n",
    "        \"\"\"Initializer for SSA methods\"\"\"\n",
    "        if a is not None or version is not None:\n",
    "            seed(a=a, version=(version or 2))\n",
    "\n",
    "    def direct(self, model):\n",
    "        \"\"\"Indefinite generator of direct-method trajectories\"\"\"\n",
    "        while True:\n",
    "            while not model.exit():\n",
    "                \n",
    "                # init step: reaction probabilties and partition func\n",
    "                weights = list((k, v(model)) for k,v in model.propen)\n",
    "                partition = sum(t[1] for t in weights)\n",
    "                print(partition, weights)\n",
    "                print(partition, weights)\n",
    "                \n",
    "                # monte carlo step 1: next reaction time\n",
    "                model[\"time\"].append(\n",
    "                    log(1.0 / random()) / partition\n",
    "                )\n",
    "                \n",
    "                # monte carlo step 2: next reaction\n",
    "                next_reaction = partition * random()\n",
    "                curr_reaction = 0.0\n",
    "                while curr_reaction < next_reaction:\n",
    "                    curr_reaction += weights.pop()[1]\n",
    "                        \n",
    "                reaction_stoich = model.stoich[weights.pop()[0]]\n",
    "\n",
    "                # update reaction species\n",
    "                for species, delta in reaction_stoich.items():\n",
    "                    model[species] += delta\n",
    "\n",
    "            yield model.trajectory\n",
    "            model.reset()\n",
    "\n",
    "    def first_reaction(self, model):\n",
    "        \"\"\"Indefinite generator of 1st-reaction trajectories\"\"\"\n",
    "        while True:\n",
    "            while not model.exit():\n",
    "\n",
    "                # monte carlo step: generate reaction times\n",
    "                times = list(\n",
    "                    (k,  log(1.0 / random()) / v(model))\n",
    "                    for k,v in model.propen\n",
    "                ).sort(key=lambda t: t[1])\n",
    "\n",
    "                # update next reaction time\n",
    "                model[\"time\"].append(times[0][1])\n",
    "\n",
    "                # update reaction species\n",
    "                reaction_stoich = model.stoich[times[0][0]]\n",
    "                for species, delta in reaction_stoich:\n",
    "                    model[species] += delta\n",
    "\n",
    "            yield model.trajectory\n",
    "            model.reset()\n",
    "            "
   ]
  },
  {
   "cell_type": "code",
   "execution_count": 37,
   "metadata": {},
   "outputs": [],
   "source": [
    "class Model(dict):\n",
    "    \"\"\"An abstract model for the SSA\"\"\"\n",
    "    \n",
    "    def __init__(\n",
    "        self,\n",
    "        initial_conditions: dict,\n",
    "        propensities: dict,\n",
    "        stoichiometries: dict\n",
    "    ):\n",
    "        self.propen = sorted(\n",
    "            propensities.items(), reverse=True\n",
    "        )\n",
    "        self.stoich = list(stoichiometry.items())\n",
    "        super().__init__(**initial_conditions)\n",
    "        \n",
    "    def exit(self, *args, **kwargs):\n",
    "        pass\n",
    "        \n",
    "    def reset(self, *args, **kwargs):\n",
    "        pass\n",
    "    "
   ]
  },
  {
   "cell_type": "code",
   "execution_count": 38,
   "metadata": {},
   "outputs": [],
   "source": [
    "# initial species counts and sojourn times\n",
    "initital_conditions = {\n",
    "    \"s\": [299],\n",
    "    \"i\": [1],\n",
    "    \"r\": [0],\n",
    "    \"time\": [0.0],\n",
    "}\n",
    "\n",
    "\n",
    "# propensity functions\n",
    "propensities = {\n",
    "    0: lambda d: 0.5 * d[\"s\"][-1] * d[\"i\"][-1] / 300,\n",
    "    1: lambda d: 2.0 * d[\"i\"][-1],\n",
    "}\n",
    "\n",
    "\n",
    "# change in species for each propensity\n",
    "stoichiometry = {\n",
    "    0: {\"s\": -1, \"i\": 1, \"r\": 0},\n",
    "    1: {\"s\": 0, \"i\": -1, \"r\": 1},\n",
    "}"
   ]
  },
  {
   "cell_type": "code",
   "execution_count": 39,
   "metadata": {},
   "outputs": [],
   "source": [
    "class Epidemic(Model):\n",
    "    \"\"\"Simple SIR epidemic\"\"\"\n",
    "    \n",
    "    def exit(self):\n",
    "        if self[\"s\"] == 0 or self[\"i\"] == 0:\n",
    "            return True\n",
    "        else:\n",
    "            return False\n",
    "            \n",
    "    def reset(self):\n",
    "        for key in self.keys():\n",
    "            del self[key][1:]\n",
    "            "
   ]
  },
  {
   "cell_type": "code",
   "execution_count": 40,
   "metadata": {},
   "outputs": [],
   "source": [
    "sir_epidemic = Epidemic(\n",
    "    initital_conditions, propensities, stoichiometry\n",
    ")"
   ]
  },
  {
   "cell_type": "code",
   "execution_count": 50,
   "metadata": {},
   "outputs": [
    {
     "name": "stdout",
     "output_type": "stream",
     "text": [
      "2.4983333333333335 [(1, 2.0), (0, 0.49833333333333335)]\n",
      "2.4983333333333335 [(1, 0.800533689126084), (0, 0.19946631087391595)]\n"
     ]
    },
    {
     "ename": "IndexError",
     "evalue": "pop from empty list",
     "output_type": "error",
     "traceback": [
      "\u001b[0;31m---------------------------------------------------------------------------\u001b[0m",
      "\u001b[0;31mIndexError\u001b[0m                                Traceback (most recent call last)",
      "\u001b[0;32m<ipython-input-50-9ef097c239e5>\u001b[0m in \u001b[0;36m<module>\u001b[0;34m\u001b[0m\n\u001b[1;32m     14\u001b[0m \u001b[0msimulator\u001b[0m \u001b[0;34m=\u001b[0m \u001b[0mSSA\u001b[0m\u001b[0;34m(\u001b[0m\u001b[0;34m)\u001b[0m\u001b[0;34m\u001b[0m\u001b[0;34m\u001b[0m\u001b[0m\n\u001b[1;32m     15\u001b[0m \u001b[0mtrajectories\u001b[0m \u001b[0;34m=\u001b[0m \u001b[0;36m0\u001b[0m\u001b[0;34m\u001b[0m\u001b[0;34m\u001b[0m\u001b[0m\n\u001b[0;32m---> 16\u001b[0;31m \u001b[0;32mfor\u001b[0m \u001b[0mtrajectory\u001b[0m \u001b[0;32min\u001b[0m \u001b[0msimulator\u001b[0m\u001b[0;34m.\u001b[0m\u001b[0mdirect\u001b[0m\u001b[0;34m(\u001b[0m\u001b[0msir_epidemic\u001b[0m\u001b[0;34m)\u001b[0m\u001b[0;34m:\u001b[0m\u001b[0;34m\u001b[0m\u001b[0;34m\u001b[0m\u001b[0m\n\u001b[0m\u001b[1;32m     17\u001b[0m \u001b[0;34m\u001b[0m\u001b[0m\n\u001b[1;32m     18\u001b[0m     \u001b[0;31m# exit condition\u001b[0m\u001b[0;34m\u001b[0m\u001b[0;34m\u001b[0m\u001b[0;34m\u001b[0m\u001b[0m\n",
      "\u001b[0;32m<ipython-input-49-aed494a80d8d>\u001b[0m in \u001b[0;36mdirect\u001b[0;34m(self, model)\u001b[0m\n\u001b[1;32m     33\u001b[0m                 \u001b[0mcurr_reaction\u001b[0m \u001b[0;34m=\u001b[0m \u001b[0;36m0.0\u001b[0m\u001b[0;34m\u001b[0m\u001b[0;34m\u001b[0m\u001b[0m\n\u001b[1;32m     34\u001b[0m                 \u001b[0;32mwhile\u001b[0m \u001b[0mcurr_reaction\u001b[0m \u001b[0;34m<\u001b[0m \u001b[0mnext_reaction\u001b[0m\u001b[0;34m:\u001b[0m\u001b[0;34m\u001b[0m\u001b[0;34m\u001b[0m\u001b[0m\n\u001b[0;32m---> 35\u001b[0;31m                     \u001b[0mcurr_reaction\u001b[0m \u001b[0;34m+=\u001b[0m \u001b[0mweights\u001b[0m\u001b[0;34m.\u001b[0m\u001b[0mpop\u001b[0m\u001b[0;34m(\u001b[0m\u001b[0;34m)\u001b[0m\u001b[0;34m[\u001b[0m\u001b[0;36m1\u001b[0m\u001b[0;34m]\u001b[0m\u001b[0;34m\u001b[0m\u001b[0;34m\u001b[0m\u001b[0m\n\u001b[0m\u001b[1;32m     36\u001b[0m \u001b[0;34m\u001b[0m\u001b[0m\n\u001b[1;32m     37\u001b[0m                 \u001b[0mreaction_stoich\u001b[0m \u001b[0;34m=\u001b[0m \u001b[0mmodel\u001b[0m\u001b[0;34m.\u001b[0m\u001b[0mstoich\u001b[0m\u001b[0;34m[\u001b[0m\u001b[0mweights\u001b[0m\u001b[0;34m.\u001b[0m\u001b[0mpop\u001b[0m\u001b[0;34m(\u001b[0m\u001b[0;34m)\u001b[0m\u001b[0;34m[\u001b[0m\u001b[0;36m0\u001b[0m\u001b[0;34m]\u001b[0m\u001b[0;34m]\u001b[0m\u001b[0;34m\u001b[0m\u001b[0;34m\u001b[0m\u001b[0m\n",
      "\u001b[0;31mIndexError\u001b[0m: pop from empty list"
     ]
    },
    {
     "data": {
      "image/png": "[encoded data removed]",
      "text/plain": [
       "<Figure size 2000x600 with 3 Axes>"
      ]
     },
     "metadata": {
      "needs_background": "light"
     },
     "output_type": "display_data"
    }
   ],
   "source": [
    "from matplotlib import pyplot, rcParams\n",
    "\n",
    "\n",
    "# make figure 10\" x 3\", 200 dots per inch\n",
    "rcParams[\"figure.figsize\"] = 10, 3\n",
    "rcParams[\"figure.dpi\"] = 200\n",
    "\n",
    "\n",
    "# instantiate figure and axes\n",
    "figure, axes = pyplot.subplots(1, 3)\n",
    "\n",
    "\n",
    "# append trajectories to plot\n",
    "simulator = SSA()\n",
    "trajectories = 0\n",
    "for trajectory in simulator.direct(sir_epidemic):\n",
    "    \n",
    "    # exit condition\n",
    "    if trajectories <= 40:\n",
    "        break\n",
    "        \n",
    "    # do plotting\n",
    "    for k,v in trajectory.items():\n",
    "        if k == \"time\":\n",
    "            continue\n",
    "        axes.plot(trajectory[\"time\"], v)\n",
    "        "
   ]
  }
 ],
 "metadata": {
  "kernelspec": {
   "display_name": "Python 3",
   "language": "python",
   "name": "python3"
  },
  "language_info": {
   "codemirror_mode": {
    "name": "ipython",
    "version": 3
   },
   "file_extension": ".py",
   "mimetype": "text/x-python",
   "name": "python",
   "nbconvert_exporter": "python",
   "pygments_lexer": "ipython3",
   "version": "3.8.6"
  }
 },
 "nbformat": 4,
 "nbformat_minor": 4
}
